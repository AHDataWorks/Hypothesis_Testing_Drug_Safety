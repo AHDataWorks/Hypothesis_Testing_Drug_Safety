{
 "cells": [
  {
   "cell_type": "markdown",
   "id": "644509f7-baea-4242-afa0-fa54c0114fcc",
   "metadata": {},
   "source": [
    "# Hypothesis Testing in Healthcare: Drug Safety\n",
    "\n",
    "**Scenario for this project:**\n",
    "A pharmaceutical company GlobalXYZ has just completed a randomized controlled drug trial. To promote transparency and reproducibility of the drug's outcome, they (GlobalXYZ) have presented the dataset to our organization, a non-profit that focuses primarily on drug safety.\n",
    "\n",
    "The dataset provided contained five adverse effects, demographic data, vital signs, etc. Your organization is primarily interested in the drug's adverse reactions. It wants to know if the adverse reactions, if any, are of significant proportions. It has asked you to explore and answer some questions from the data.\n",
    "\n",
    "The dataset `drug_safety.csv` contains five adverse effects: headache, abdominal pain, dyspepsia, upper respiratory infection, chronic obstructive airway disease (COAD), demographic data, vital signs, lab measures, etc. The ratio of drug observations to placebo observations is 2 to 1.\n",
    "\n",
    "\n",
    "The columns in the dataset are: \n",
    "\n",
    "| Column | Description |\n",
    "|--------|-------------|\n",
    "|`sex` | The gender of the individual |\n",
    "|`age` | The age of the individual |\n",
    "|`week` | The week of the drug testing |\n",
    "|`trx` | The treatment (Drug) and control (Placebo) groups | \n",
    "|`wbc` | The count of white blood cells |\n",
    "|`rbc` | The count of red blood cells |\n",
    "|`adverse_effects` | The presence of at least a single adverse effect |\n",
    "|`num_effects` | The number of adverse effects experienced by a single individual |\n",
    "\n",
    "\n",
    "\n",
    "Our objective will be to answer these questions:\n",
    "\n",
    "- Determine if the proportion of adverse effects differs significantly between the Drug and Placebo groups.\n",
    "\n",
    "- Find out if the number of adverse effects is independent of the treatment and control groups.\n",
    "\n",
    "- Examine if there is a significant difference between the ages of the Drug and Placebo groups."
   ]
  },
  {
   "cell_type": "markdown",
   "id": "69af1cdb-8eee-46d7-828f-e841b764786d",
   "metadata": {},
   "source": [
    "## Preliminary Setup:\n",
    "In this section, we prepare our environment for the analysis by importing essential Python libraries that will enable us to manipulate data, perform statistical tests, and create visualizations. We use:\n",
    "\n",
    "- **numpy** and **pandas** for data manipulation,\n",
    "- **statsmodels** and **pingouin** for conducting statistical tests,\n",
    "- **seaborn** and **matplotlib** for data visualization.\n",
    "\n",
    "Following the setup of our environment, we load our dataset from a CSV file named drug_safety.csv. "
   ]
  },
  {
   "cell_type": "code",
   "execution_count": 13,
   "id": "ab3af3c8-7200-4136-93d9-c8bb344ae62d",
   "metadata": {
    "executionCancelledAt": null,
    "executionTime": 595,
    "lastExecutedAt": 1706743754472,
    "lastScheduledRunId": null,
    "lastSuccessfullyExecutedCode": "# Import packages\nimport numpy as np\nimport pandas as pd\nfrom statsmodels.stats.proportion import proportions_ztest\nimport pingouin\nimport seaborn as sns\nimport matplotlib.pyplot as plt\n\n# Load the dataset\ndrug_safety = pd.read_csv(\"drug_safety.csv\")\n\n# Count the adverse_effects column values for each trx group\nadv_eff_by_trx = drug_safety.groupby(\"trx\").adverse_effects.value_counts()\n\n# Compute total rows in each group\nadv_eff_by_trx_totals = adv_eff_by_trx.groupby(\"trx\").sum()\n\n# Create an array of the \"Yes\" counts for each group\nyeses = [adv_eff_by_trx[\"Drug\"][\"Yes\"], adv_eff_by_trx[\"Placebo\"][\"Yes\"]]\n\n# Create an array of the total number of rows in each group\nn = [adv_eff_by_trx_totals[\"Drug\"], adv_eff_by_trx_totals[\"Placebo\"]]\n\n# Perform a two-sided z-test on the two proportions\ntwo_sample_results = proportions_ztest(yeses, n)\n\n# Store the p-value\ntwo_sample_p_value = two_sample_results[1]\n\n# Determine if num_effects and trx are independent\nnum_effects_groups = pingouin.chi2_independence(\n    data=drug_safety, x=\"num_effects\", y=\"trx\")\n\n# Extract the p-value\nnum_effects_p_value = num_effects_groups[2][\"pval\"][0]\n\n# Create a histogram with Seaborn\nsns.histplot(data=drug_safety, x=\"age\", hue=\"trx\")\n\n# Optionally - confirm the histogram's output by conducting a normality test\n# To choose between unpaired t-test and Wilcoxon-Mann-Whitney test\nnormality = pingouin.normality(\n    data=drug_safety,\n    dv='age',\n    group='trx',\n    method='shapiro', # the default\n    alpha=0.05) # 0.05 is also the default\n\n# Select the age of the Drug group\nage_trx = drug_safety.loc[drug_safety[\"trx\"] == \"Drug\", \"age\"]\n\n# Select the age of the Placebo group\nage_placebo = drug_safety.loc[drug_safety[\"trx\"] == \"Placebo\", \"age\"]\n\n# Since the data distribution is not normal\n# Conduct a two-sided Mann-Whitney U test\nage_group_effects = pingouin.mwu(age_trx, age_placebo)\n\n# Extract the p-value\nage_group_effects_p_value = age_group_effects[\"p-val\"]\n",
    "outputsMetadata": {
     "0": {
      "height": 37,
      "type": "stream"
     }
    }
   },
   "outputs": [
    {
     "data": {
      "text/html": [
       "<div>\n",
       "<style scoped>\n",
       "    .dataframe tbody tr th:only-of-type {\n",
       "        vertical-align: middle;\n",
       "    }\n",
       "\n",
       "    .dataframe tbody tr th {\n",
       "        vertical-align: top;\n",
       "    }\n",
       "\n",
       "    .dataframe thead th {\n",
       "        text-align: right;\n",
       "    }\n",
       "</style>\n",
       "<table border=\"1\" class=\"dataframe\">\n",
       "  <thead>\n",
       "    <tr style=\"text-align: right;\">\n",
       "      <th></th>\n",
       "      <th>age</th>\n",
       "      <th>sex</th>\n",
       "      <th>trx</th>\n",
       "      <th>week</th>\n",
       "      <th>wbc</th>\n",
       "      <th>rbc</th>\n",
       "      <th>adverse_effects</th>\n",
       "      <th>num_effects</th>\n",
       "    </tr>\n",
       "  </thead>\n",
       "  <tbody>\n",
       "    <tr>\n",
       "      <th>0</th>\n",
       "      <td>62</td>\n",
       "      <td>male</td>\n",
       "      <td>Drug</td>\n",
       "      <td>0</td>\n",
       "      <td>7.3</td>\n",
       "      <td>5.1</td>\n",
       "      <td>No</td>\n",
       "      <td>0</td>\n",
       "    </tr>\n",
       "    <tr>\n",
       "      <th>1</th>\n",
       "      <td>62</td>\n",
       "      <td>male</td>\n",
       "      <td>Drug</td>\n",
       "      <td>1</td>\n",
       "      <td>NaN</td>\n",
       "      <td>NaN</td>\n",
       "      <td>No</td>\n",
       "      <td>0</td>\n",
       "    </tr>\n",
       "    <tr>\n",
       "      <th>2</th>\n",
       "      <td>62</td>\n",
       "      <td>male</td>\n",
       "      <td>Drug</td>\n",
       "      <td>12</td>\n",
       "      <td>5.6</td>\n",
       "      <td>5.0</td>\n",
       "      <td>No</td>\n",
       "      <td>0</td>\n",
       "    </tr>\n",
       "    <tr>\n",
       "      <th>3</th>\n",
       "      <td>62</td>\n",
       "      <td>male</td>\n",
       "      <td>Drug</td>\n",
       "      <td>16</td>\n",
       "      <td>NaN</td>\n",
       "      <td>NaN</td>\n",
       "      <td>No</td>\n",
       "      <td>0</td>\n",
       "    </tr>\n",
       "    <tr>\n",
       "      <th>4</th>\n",
       "      <td>62</td>\n",
       "      <td>male</td>\n",
       "      <td>Drug</td>\n",
       "      <td>2</td>\n",
       "      <td>6.6</td>\n",
       "      <td>5.1</td>\n",
       "      <td>No</td>\n",
       "      <td>0</td>\n",
       "    </tr>\n",
       "  </tbody>\n",
       "</table>\n",
       "</div>"
      ],
      "text/plain": [
       "   age   sex   trx  week  wbc  rbc adverse_effects  num_effects\n",
       "0   62  male  Drug     0  7.3  5.1              No            0\n",
       "1   62  male  Drug     1  NaN  NaN              No            0\n",
       "2   62  male  Drug    12  5.6  5.0              No            0\n",
       "3   62  male  Drug    16  NaN  NaN              No            0\n",
       "4   62  male  Drug     2  6.6  5.1              No            0"
      ]
     },
     "execution_count": 13,
     "metadata": {},
     "output_type": "execute_result"
    }
   ],
   "source": [
    "# Import packages\n",
    "import numpy as np\n",
    "import pandas as pd\n",
    "from statsmodels.stats.proportion import proportions_ztest\n",
    "import pingouin\n",
    "import seaborn as sns\n",
    "import matplotlib.pyplot as plt\n",
    "\n",
    "# Load the dataset\n",
    "drug_safety = pd.read_csv(\"drug_safety.csv\")\n",
    "drug_safety.head()"
   ]
  },
  {
   "cell_type": "markdown",
   "id": "f8d4d6d6-699f-4932-85e7-8b50d07583dc",
   "metadata": {},
   "source": [
    "## Data Preparation and Analysis\n",
    "\n",
    "After setting up our environment and loading the dataset, the next crucial step is to prepare our data for analysis. This involves:\n",
    "\n",
    "1. **Data Preprocessing**: We start by grouping the data based on the treatment type (`trx`) and counting the occurrence of adverse effects. This step is essential for understanding the impact of the drug versus the placebo on participants.\n",
    "\n",
    "2. **Computing Totals**: Next, we compute the total number of observations within each treatment group. This helps us in understanding the scale of the data we're working with and prepares us for statistical testing.\n",
    "   \n",
    "3. **Quantifying Adverse Effects**: We then create an array for the counts of \"Yes\" responses to adverse effects for both the drug and placebo groups. This quantification is critical for our subsequent statistical tests.\n",
    "\n",
    "4. **Total Observations**: Finally, we prepare an array representing the total number of observations for each group. These figures are vital for our analysis as they provide a basis for comparison.\n",
    "\n",
    "Here's how we accomplish these steps with our code:"
   ]
  },
  {
   "cell_type": "code",
   "execution_count": 14,
   "id": "5373cded-0a36-4119-8c38-6f3dbad806fd",
   "metadata": {
    "executionCancelledAt": null,
    "executionTime": 595,
    "lastExecutedAt": 1706743754472,
    "lastScheduledRunId": null,
    "lastSuccessfullyExecutedCode": "# Import packages\nimport numpy as np\nimport pandas as pd\nfrom statsmodels.stats.proportion import proportions_ztest\nimport pingouin\nimport seaborn as sns\nimport matplotlib.pyplot as plt\n\n# Load the dataset\ndrug_safety = pd.read_csv(\"drug_safety.csv\")\n\n# Count the adverse_effects column values for each trx group\nadv_eff_by_trx = drug_safety.groupby(\"trx\").adverse_effects.value_counts()\n\n# Compute total rows in each group\nadv_eff_by_trx_totals = adv_eff_by_trx.groupby(\"trx\").sum()\n\n# Create an array of the \"Yes\" counts for each group\nyeses = [adv_eff_by_trx[\"Drug\"][\"Yes\"], adv_eff_by_trx[\"Placebo\"][\"Yes\"]]\n\n# Create an array of the total number of rows in each group\nn = [adv_eff_by_trx_totals[\"Drug\"], adv_eff_by_trx_totals[\"Placebo\"]]\n\n# Perform a two-sided z-test on the two proportions\ntwo_sample_results = proportions_ztest(yeses, n)\n\n# Store the p-value\ntwo_sample_p_value = two_sample_results[1]\n\n# Determine if num_effects and trx are independent\nnum_effects_groups = pingouin.chi2_independence(\n    data=drug_safety, x=\"num_effects\", y=\"trx\")\n\n# Extract the p-value\nnum_effects_p_value = num_effects_groups[2][\"pval\"][0]\n\n# Create a histogram with Seaborn\nsns.histplot(data=drug_safety, x=\"age\", hue=\"trx\")\n\n# Optionally - confirm the histogram's output by conducting a normality test\n# To choose between unpaired t-test and Wilcoxon-Mann-Whitney test\nnormality = pingouin.normality(\n    data=drug_safety,\n    dv='age',\n    group='trx',\n    method='shapiro', # the default\n    alpha=0.05) # 0.05 is also the default\n\n# Select the age of the Drug group\nage_trx = drug_safety.loc[drug_safety[\"trx\"] == \"Drug\", \"age\"]\n\n# Select the age of the Placebo group\nage_placebo = drug_safety.loc[drug_safety[\"trx\"] == \"Placebo\", \"age\"]\n\n# Since the data distribution is not normal\n# Conduct a two-sided Mann-Whitney U test\nage_group_effects = pingouin.mwu(age_trx, age_placebo)\n\n# Extract the p-value\nage_group_effects_p_value = age_group_effects[\"p-val\"]\n",
    "outputsMetadata": {
     "0": {
      "height": 37,
      "type": "stream"
     }
    }
   },
   "outputs": [],
   "source": [
    "# Count the adverse_effects column values for each trx group\n",
    "adv_eff_by_trx = drug_safety.groupby(\"trx\").adverse_effects.value_counts()\n",
    "\n",
    "# Compute total rows in each group\n",
    "adv_eff_by_trx_totals = adv_eff_by_trx.groupby(\"trx\").sum()\n",
    "\n",
    "# Create an array of the \"Yes\" counts for each group\n",
    "yeses = [adv_eff_by_trx[\"Drug\"][\"Yes\"], adv_eff_by_trx[\"Placebo\"][\"Yes\"]]\n",
    "\n",
    "# Create an array of the total number of rows in each group\n",
    "n = [adv_eff_by_trx_totals[\"Drug\"], adv_eff_by_trx_totals[\"Placebo\"]]"
   ]
  },
  {
   "cell_type": "markdown",
   "id": "ff216406-7361-4023-aae2-785d27dca07f",
   "metadata": {},
   "source": [
    "## Statistical Analysis and Visualization. \n",
    "\n",
    "Once our data is prepared, we proceed to the core of our analysis—statistical testing. This involves two critical steps to understand the impact of the new drug compared to a placebo:\n",
    "\n",
    "1. **Z-Test for Proportions**: We apply a two-sided Z-test to compare the proportions of adverse effects between the drug and placebo groups. This test helps us determine if there is a significant difference in the occurrence of adverse effects between the two groups, which is crucial for assessing the drug's safety.\n",
    "\n",
    "**Note:** _A p-value greater than 0.05 suggests that any observed differences in the distribution of effects across the treatment groups could likely be attributed to chance rather than a meaningful association between the variables. In simpler terms, this means that the treatment type—whether participants received the drug or a placebo—does not significantly influence the likelihood of experiencing effects based on the data analyzed._\r\n"
   ]
  },
  {
   "cell_type": "code",
   "execution_count": 29,
   "id": "eea777ba-0855-4632-a752-5a239e982e42",
   "metadata": {
    "executionCancelledAt": null,
    "executionTime": 595,
    "lastExecutedAt": 1706743754472,
    "lastScheduledRunId": null,
    "lastSuccessfullyExecutedCode": "# Import packages\nimport numpy as np\nimport pandas as pd\nfrom statsmodels.stats.proportion import proportions_ztest\nimport pingouin\nimport seaborn as sns\nimport matplotlib.pyplot as plt\n\n# Load the dataset\ndrug_safety = pd.read_csv(\"drug_safety.csv\")\n\n# Count the adverse_effects column values for each trx group\nadv_eff_by_trx = drug_safety.groupby(\"trx\").adverse_effects.value_counts()\n\n# Compute total rows in each group\nadv_eff_by_trx_totals = adv_eff_by_trx.groupby(\"trx\").sum()\n\n# Create an array of the \"Yes\" counts for each group\nyeses = [adv_eff_by_trx[\"Drug\"][\"Yes\"], adv_eff_by_trx[\"Placebo\"][\"Yes\"]]\n\n# Create an array of the total number of rows in each group\nn = [adv_eff_by_trx_totals[\"Drug\"], adv_eff_by_trx_totals[\"Placebo\"]]\n\n# Perform a two-sided z-test on the two proportions\ntwo_sample_results = proportions_ztest(yeses, n)\n\n# Store the p-value\ntwo_sample_p_value = two_sample_results[1]\n\n# Determine if num_effects and trx are independent\nnum_effects_groups = pingouin.chi2_independence(\n    data=drug_safety, x=\"num_effects\", y=\"trx\")\n\n# Extract the p-value\nnum_effects_p_value = num_effects_groups[2][\"pval\"][0]\n\n# Create a histogram with Seaborn\nsns.histplot(data=drug_safety, x=\"age\", hue=\"trx\")\n\n# Optionally - confirm the histogram's output by conducting a normality test\n# To choose between unpaired t-test and Wilcoxon-Mann-Whitney test\nnormality = pingouin.normality(\n    data=drug_safety,\n    dv='age',\n    group='trx',\n    method='shapiro', # the default\n    alpha=0.05) # 0.05 is also the default\n\n# Select the age of the Drug group\nage_trx = drug_safety.loc[drug_safety[\"trx\"] == \"Drug\", \"age\"]\n\n# Select the age of the Placebo group\nage_placebo = drug_safety.loc[drug_safety[\"trx\"] == \"Placebo\", \"age\"]\n\n# Since the data distribution is not normal\n# Conduct a two-sided Mann-Whitney U test\nage_group_effects = pingouin.mwu(age_trx, age_placebo)\n\n# Extract the p-value\nage_group_effects_p_value = age_group_effects[\"p-val\"]\n",
    "outputsMetadata": {
     "0": {
      "height": 37,
      "type": "stream"
     }
    }
   },
   "outputs": [
    {
     "data": {
      "image/png": "[encoded data removed]",
      "text/plain": [
       "<Figure size 800x600 with 1 Axes>"
      ]
     },
     "metadata": {},
     "output_type": "display_data"
    },
    {
     "name": "stdout",
     "output_type": "stream",
     "text": [
      "P-value from Z-Test for proportions: 0.9639333330262475\n",
      "This high p-value (> 0.05) indicates no statistically significant difference between the proportions being compared.\n",
      "It suggests that any observed difference is likely due to chance.\n"
     ]
    }
   ],
   "source": [
    "import warnings\n",
    "\n",
    "# Filter warnings related to low counts in observed and expected frequencies by pingouin\n",
    "warnings.filterwarnings('ignore', message='Low count on observed frequencies.')\n",
    "warnings.filterwarnings('ignore', message='Low count on expected frequencies.')\n",
    "\n",
    "# Perform a two-sided z-test on the two proportions\n",
    "two_sample_results = proportions_ztest(yeses, n)\n",
    "\n",
    "# Store the p-value\n",
    "two_sample_p_value = two_sample_results[1]\n",
    "\n",
    "proportions = [yes / total for yes, total in zip(yeses, n)]\n",
    "groups = ['Drug', 'Placebo']\n",
    "standard_errors = [np.sqrt(p * (1 - p) / total) for p, total in zip(proportions, n)]\n",
    "\n",
    "# Calculate the confidence intervals for error bars\n",
    "z_score = 1.96  # For 95% confidence\n",
    "confidence_intervals = [(p - z_score * se, p + z_score * se) for p, se in zip(proportions, standard_errors)]\n",
    "\n",
    "# Data preparation\n",
    "data = pd.DataFrame({\n",
    "    'Group': groups,\n",
    "    'Proportion': proportions,\n",
    "    'Lower CI': [ci[0] for ci in confidence_intervals],\n",
    "    'Upper CI': [ci[1] for ci in confidence_intervals]\n",
    "})\n",
    "\n",
    "# Initialize the matplotlib figure\n",
    "plt.figure(figsize=(8, 6))\n",
    "\n",
    "# Plot the proportions using Seaborn's barplot without specifying colors\n",
    "barplot = sns.barplot(x='Group', y='Proportion', data=data, color=\"lightgray\")  # Use a neutral color as placeholder\n",
    "\n",
    "# Custom colors for each bar\n",
    "custom_colors = [\"skyblue\", \"orange\"]\n",
    "\n",
    "# Set the colors of each bar manually\n",
    "for i, bar in enumerate(barplot.patches):\n",
    "    bar.set_color(custom_colors[i])\n",
    "\n",
    "# Add error bars manually\n",
    "for i, row in data.iterrows():\n",
    "    plt.errorbar(x=i, y=row['Proportion'], yerr=[[row['Proportion'] - row['Lower CI']], [row['Upper CI'] - row['Proportion']]], \n",
    "                 fmt='none', c='black', capsize=5)\n",
    "\n",
    "# Finalizing the plot\n",
    "plt.ylabel('Proportion of Adverse Effects')\n",
    "plt.title('Proportion of Adverse Effects by Treatment Group')\n",
    "\n",
    "plt.tight_layout()\n",
    "plt.show()\n",
    "\n",
    "print(\"P-value from Z-Test for proportions: 0.9639333330262475\\nThis high p-value (> 0.05) indicates no statistically significant difference between the proportions being compared.\\nIt suggests that any observed difference is likely due to chance.\")\n"
   ]
  },
  {
   "cell_type": "markdown",
   "id": "0ac64905-6b93-4114-a407-b8f4ca2a47c7",
   "metadata": {},
   "source": [
    "2. **Chi-Squared Test for Independence**: To further explore the data, we conduct a Chi-Squared test to examine the independence between the number of effects (adverse or otherwise) and the treatment groups (drug vs. placebo). This test provides insight into whether the treatment type influences the likelihood of experiencing any effects."
   ]
  },
  {
   "cell_type": "code",
   "execution_count": 35,
   "id": "6c0c6e85-0d4c-46fb-8293-834ef9c1e4f9",
   "metadata": {
    "executionCancelledAt": null,
    "executionTime": 595,
    "lastExecutedAt": 1706743754472,
    "lastScheduledRunId": null,
    "lastSuccessfullyExecutedCode": "# Import packages\nimport numpy as np\nimport pandas as pd\nfrom statsmodels.stats.proportion import proportions_ztest\nimport pingouin\nimport seaborn as sns\nimport matplotlib.pyplot as plt\n\n# Load the dataset\ndrug_safety = pd.read_csv(\"drug_safety.csv\")\n\n# Count the adverse_effects column values for each trx group\nadv_eff_by_trx = drug_safety.groupby(\"trx\").adverse_effects.value_counts()\n\n# Compute total rows in each group\nadv_eff_by_trx_totals = adv_eff_by_trx.groupby(\"trx\").sum()\n\n# Create an array of the \"Yes\" counts for each group\nyeses = [adv_eff_by_trx[\"Drug\"][\"Yes\"], adv_eff_by_trx[\"Placebo\"][\"Yes\"]]\n\n# Create an array of the total number of rows in each group\nn = [adv_eff_by_trx_totals[\"Drug\"], adv_eff_by_trx_totals[\"Placebo\"]]\n\n# Perform a two-sided z-test on the two proportions\ntwo_sample_results = proportions_ztest(yeses, n)\n\n# Store the p-value\ntwo_sample_p_value = two_sample_results[1]\n\n# Determine if num_effects and trx are independent\nnum_effects_groups = pingouin.chi2_independence(\n    data=drug_safety, x=\"num_effects\", y=\"trx\")\n\n# Extract the p-value\nnum_effects_p_value = num_effects_groups[2][\"pval\"][0]\n\n# Create a histogram with Seaborn\nsns.histplot(data=drug_safety, x=\"age\", hue=\"trx\")\n\n# Optionally - confirm the histogram's output by conducting a normality test\n# To choose between unpaired t-test and Wilcoxon-Mann-Whitney test\nnormality = pingouin.normality(\n    data=drug_safety,\n    dv='age',\n    group='trx',\n    method='shapiro', # the default\n    alpha=0.05) # 0.05 is also the default\n\n# Select the age of the Drug group\nage_trx = drug_safety.loc[drug_safety[\"trx\"] == \"Drug\", \"age\"]\n\n# Select the age of the Placebo group\nage_placebo = drug_safety.loc[drug_safety[\"trx\"] == \"Placebo\", \"age\"]\n\n# Since the data distribution is not normal\n# Conduct a two-sided Mann-Whitney U test\nage_group_effects = pingouin.mwu(age_trx, age_placebo)\n\n# Extract the p-value\nage_group_effects_p_value = age_group_effects[\"p-val\"]\n",
    "outputsMetadata": {
     "0": {
      "height": 37,
      "type": "stream"
     }
    }
   },
   "outputs": [
    {
     "name": "stdout",
     "output_type": "stream",
     "text": [
      "P-value from Chi-Squared Test of Independence: 0.6150123339426765.\n",
      "This p-value indicates that there is no statistically significant association between the treatment group (trx) and the number of effects (num_effects)\n",
      "suggesting that any observed difference in the distribution of effects across treatment groups is likely due to chance.\n"
     ]
    }
   ],
   "source": [
    "# Determine if num_effects and trx are independent\n",
    "num_effects_groups = pingouin.chi2_independence(\n",
    "    data=drug_safety, x=\"num_effects\", y=\"trx\")\n",
    "\n",
    "# Extract the p-value\n",
    "num_effects_p_value = num_effects_groups[2][\"pval\"][0]\n",
    "\n",
    "# Print the p-value result\n",
    "print(\"P-value from Chi-Squared Test of Independence: 0.6150123339426765.\\nThis p-value indicates that there is no statistically significant association between the treatment group (trx) and the number of effects (num_effects)\\nsuggesting that any observed difference in the distribution of effects across treatment groups is likely due to chance.\")\n"
   ]
  },
  {
   "cell_type": "markdown",
   "id": "bf12d815-f9c2-408a-adca-c32a435f99a6",
   "metadata": {},
   "source": [
    "## Normality Testing\n",
    "\n",
    "To complement our statistical analysis, we focus on visualizing the data and assessing the distribution's normality, which are crucial for selecting appropriate statistical tests and interpreting the results accurately.\n",
    "\n",
    "1. **Visualizing Age Distribution**: We create a histogram to visualize the age distribution of participants within each treatment group (drug vs. placebo). This visualization aids in understanding the demographic makeup of our study population and can provide insights into any age-related biases in the treatment effects.\n",
    "\n",
    "2. **Normality Testing**: Given the importance of distribution assumptions in statistical testing, we conduct a normality test on the age distribution for each treatment group. This step helps us determine if the data follows a normal distribution, which influences our choice of statistical tests (e.g., t-test vs. non-parametric tests).\n"
   ]
  },
  {
   "cell_type": "code",
   "execution_count": 12,
   "id": "464566ff-b4d1-413d-a755-ba5215058725",
   "metadata": {
    "executionCancelledAt": null,
    "executionTime": 595,
    "lastExecutedAt": 1706743754472,
    "lastScheduledRunId": null,
    "lastSuccessfullyExecutedCode": "# Import packages\nimport numpy as np\nimport pandas as pd\nfrom statsmodels.stats.proportion import proportions_ztest\nimport pingouin\nimport seaborn as sns\nimport matplotlib.pyplot as plt\n\n# Load the dataset\ndrug_safety = pd.read_csv(\"drug_safety.csv\")\n\n# Count the adverse_effects column values for each trx group\nadv_eff_by_trx = drug_safety.groupby(\"trx\").adverse_effects.value_counts()\n\n# Compute total rows in each group\nadv_eff_by_trx_totals = adv_eff_by_trx.groupby(\"trx\").sum()\n\n# Create an array of the \"Yes\" counts for each group\nyeses = [adv_eff_by_trx[\"Drug\"][\"Yes\"], adv_eff_by_trx[\"Placebo\"][\"Yes\"]]\n\n# Create an array of the total number of rows in each group\nn = [adv_eff_by_trx_totals[\"Drug\"], adv_eff_by_trx_totals[\"Placebo\"]]\n\n# Perform a two-sided z-test on the two proportions\ntwo_sample_results = proportions_ztest(yeses, n)\n\n# Store the p-value\ntwo_sample_p_value = two_sample_results[1]\n\n# Determine if num_effects and trx are independent\nnum_effects_groups = pingouin.chi2_independence(\n    data=drug_safety, x=\"num_effects\", y=\"trx\")\n\n# Extract the p-value\nnum_effects_p_value = num_effects_groups[2][\"pval\"][0]\n\n# Create a histogram with Seaborn\nsns.histplot(data=drug_safety, x=\"age\", hue=\"trx\")\n\n# Optionally - confirm the histogram's output by conducting a normality test\n# To choose between unpaired t-test and Wilcoxon-Mann-Whitney test\nnormality = pingouin.normality(\n    data=drug_safety,\n    dv='age',\n    group='trx',\n    method='shapiro', # the default\n    alpha=0.05) # 0.05 is also the default\n\n# Select the age of the Drug group\nage_trx = drug_safety.loc[drug_safety[\"trx\"] == \"Drug\", \"age\"]\n\n# Select the age of the Placebo group\nage_placebo = drug_safety.loc[drug_safety[\"trx\"] == \"Placebo\", \"age\"]\n\n# Since the data distribution is not normal\n# Conduct a two-sided Mann-Whitney U test\nage_group_effects = pingouin.mwu(age_trx, age_placebo)\n\n# Extract the p-value\nage_group_effects_p_value = age_group_effects[\"p-val\"]\n",
    "outputsMetadata": {
     "0": {
      "height": 37,
      "type": "stream"
     }
    }
   },
   "outputs": [
    {
     "data": {
      "image/png": "[encoded data removed]",
      "text/plain": [
       "<Figure size 640x480 with 1 Axes>"
      ]
     },
     "metadata": {},
     "output_type": "display_data"
    }
   ],
   "source": [
    "# Filter warnings related to pingouin's Shapiro-Wilk test for large datasets\n",
    "warnings.filterwarnings('ignore', message='scipy.stats.shapiro: For N > 5000, computed p-value may not be accurate.')\n",
    "\n",
    "# Create a histogram with Seaborn\n",
    "sns.histplot(data=drug_safety, x=\"age\", hue=\"trx\")\n",
    "\n",
    "# Confirm the histogram's output by conducting a normality test\n",
    "# To choose between unpaired t-test and Wilcoxon-Mann-Whitney test\n",
    "normality = pingouin.normality(\n",
    "    data=drug_safety,\n",
    "    dv='age',\n",
    "    group='trx',\n",
    "    method='shapiro', # the default\n",
    "    alpha=0.05) # 0.05 is also the default"
   ]
  },
  {
   "cell_type": "markdown",
   "id": "048648d2-6680-4fd1-a8b3-1b21a1df502c",
   "metadata": {},
   "source": [
    "## Final Analysis Steps: Age Data Selection and Non-parametric Testing\n",
    "\n",
    "In the latter stages of our analysis, we focus on the age data to understand any potential differences in the drug's effect across age groups. This involves two crucial steps:\n",
    "\n",
    "1. **Selecting Age Data**: We extract the age data for participants in both the Drug and Placebo groups. This step allows us to focus specifically on age as a factor in our analysis, isolating it from other variables.\n",
    "\n",
    "2. **Non-parametric Testing**: Given the earlier findings from our normality test indicating that the age distribution does not follow a normal distribution, we opt for a non-parametric test. Specifically, we conduct a Mann-Whitney U test, which is suitable for comparing two independent samples when the data does not meet the assumptions required for a t-test.\n"
   ]
  },
  {
   "cell_type": "code",
   "execution_count": 8,
   "id": "abd1876e-92de-4c77-832e-ed0c042a22ab",
   "metadata": {
    "executionCancelledAt": null,
    "executionTime": 595,
    "lastExecutedAt": 1706743754472,
    "lastScheduledRunId": null,
    "lastSuccessfullyExecutedCode": "# Import packages\nimport numpy as np\nimport pandas as pd\nfrom statsmodels.stats.proportion import proportions_ztest\nimport pingouin\nimport seaborn as sns\nimport matplotlib.pyplot as plt\n\n# Load the dataset\ndrug_safety = pd.read_csv(\"drug_safety.csv\")\n\n# Count the adverse_effects column values for each trx group\nadv_eff_by_trx = drug_safety.groupby(\"trx\").adverse_effects.value_counts()\n\n# Compute total rows in each group\nadv_eff_by_trx_totals = adv_eff_by_trx.groupby(\"trx\").sum()\n\n# Create an array of the \"Yes\" counts for each group\nyeses = [adv_eff_by_trx[\"Drug\"][\"Yes\"], adv_eff_by_trx[\"Placebo\"][\"Yes\"]]\n\n# Create an array of the total number of rows in each group\nn = [adv_eff_by_trx_totals[\"Drug\"], adv_eff_by_trx_totals[\"Placebo\"]]\n\n# Perform a two-sided z-test on the two proportions\ntwo_sample_results = proportions_ztest(yeses, n)\n\n# Store the p-value\ntwo_sample_p_value = two_sample_results[1]\n\n# Determine if num_effects and trx are independent\nnum_effects_groups = pingouin.chi2_independence(\n    data=drug_safety, x=\"num_effects\", y=\"trx\")\n\n# Extract the p-value\nnum_effects_p_value = num_effects_groups[2][\"pval\"][0]\n\n# Create a histogram with Seaborn\nsns.histplot(data=drug_safety, x=\"age\", hue=\"trx\")\n\n# Optionally - confirm the histogram's output by conducting a normality test\n# To choose between unpaired t-test and Wilcoxon-Mann-Whitney test\nnormality = pingouin.normality(\n    data=drug_safety,\n    dv='age',\n    group='trx',\n    method='shapiro', # the default\n    alpha=0.05) # 0.05 is also the default\n\n# Select the age of the Drug group\nage_trx = drug_safety.loc[drug_safety[\"trx\"] == \"Drug\", \"age\"]\n\n# Select the age of the Placebo group\nage_placebo = drug_safety.loc[drug_safety[\"trx\"] == \"Placebo\", \"age\"]\n\n# Since the data distribution is not normal\n# Conduct a two-sided Mann-Whitney U test\nage_group_effects = pingouin.mwu(age_trx, age_placebo)\n\n# Extract the p-value\nage_group_effects_p_value = age_group_effects[\"p-val\"]\n",
    "outputsMetadata": {
     "0": {
      "height": 37,
      "type": "stream"
     }
    }
   },
   "outputs": [
    {
     "name": "stdout",
     "output_type": "stream",
     "text": [
      "P-value from Mann-Whitney U test: MWU    0.256963\n",
      "Name: p-val, dtype: float64\n"
     ]
    }
   ],
   "source": [
    "# Select the age of the Drug group\n",
    "age_trx = drug_safety.loc[drug_safety[\"trx\"] == \"Drug\", \"age\"]\n",
    "\n",
    "# Select the age of the Placebo group\n",
    "age_placebo = drug_safety.loc[drug_safety[\"trx\"] == \"Placebo\", \"age\"]\n",
    "\n",
    "# Since the data distribution is not normal\n",
    "# Conduct a two-sided Mann-Whitney U test\n",
    "age_group_effects = pingouin.mwu(age_trx, age_placebo)\n",
    "\n",
    "# Extract the p-value\n",
    "age_group_effects_p_value = age_group_effects[\"p-val\"]\n",
    "\n",
    "print(f\"P-value from Mann-Whitney U test: {age_group_effects_p_value}\")"
   ]
  },
  {
   "cell_type": "markdown",
   "id": "04f481cc-86b9-4d3e-9e19-0da9aadda7e9",
   "metadata": {},
   "source": [
    "### Understanding the P-value\n",
    "\n",
    "A p-value of approximately 0.257 suggests that there is no statistically significant difference in the age distributions between the two groups. Statistically speaking, this means we do not have enough evidence to reject the null hypothesis that states there is no difference between the median ages of the two groups."
   ]
  }
 ],
 "metadata": {
  "colab": {
   "name": "Welcome to DataCamp Workspaces.ipynb",
   "provenance": []
  },
  "kernelspec": {
   "display_name": "Python 3 (ipykernel)",
   "language": "python",
   "name": "python3"
  },
  "language_info": {
   "codemirror_mode": {
    "name": "ipython",
    "version": 3
   },
   "file_extension": ".py",
   "mimetype": "text/x-python",
   "name": "python",
   "nbconvert_exporter": "python",
   "pygments_lexer": "ipython3",
   "version": "3.9.2"
  }
 },
 "nbformat": 4,
 "nbformat_minor": 5
}
